{
 "cells": [
  {
   "cell_type": "code",
   "execution_count": 1,
   "metadata": {
    "colab": {},
    "colab_type": "code",
    "id": "jkQh6n_WtqZp"
   },
   "outputs": [],
   "source": [
    "import numpy as np\n",
    "import torch\n",
    "import torch.nn as nn\n",
    "import torch.optim as optim\n",
    "import torch.nn.functional as F\n",
    "import torchvision\n",
    "import torchvision.transforms as transforms\n",
    "from torchvision.utils import save_image\n",
    "from torchvision.datasets import MNIST, FashionMNIST, CIFAR10, STL10\n",
    "import os\n",
    "import pickle\n",
    "import zipfile\n",
    "import datetime\n",
    "import torch.utils.data as tud"
   ]
  },
  {
   "cell_type": "markdown",
   "metadata": {
    "colab_type": "text",
    "id": "c0JndQs0tqZt"
   },
   "source": [
    "# Data Preparation:"
   ]
  },
  {
   "cell_type": "code",
   "execution_count": 2,
   "metadata": {
    "colab": {},
    "colab_type": "code",
    "id": "LY2_lV6_tqZu"
   },
   "outputs": [],
   "source": [
    "data_transform = transforms.Compose([\n",
    "                transforms.ToTensor()\n",
    "        ])"
   ]
  },
  {
   "cell_type": "code",
   "execution_count": 3,
   "metadata": {
    "colab": {
     "base_uri": "https://localhost:8080/",
     "height": 51
    },
    "colab_type": "code",
    "id": "PQKYtenytqZw",
    "outputId": "0e956cd7-4f48-4f3a-d6b8-a39a5c93fc42"
   },
   "outputs": [
    {
     "name": "stdout",
     "output_type": "stream",
     "text": [
      "Files already downloaded and verified\n",
      "Files already downloaded and verified\n"
     ]
    }
   ],
   "source": [
    "train = STL10(root=\"./data\", split=\"train\", transform=data_transform, download=True)\n",
    "test = STL10(root=\"./data\", split=\"test\", transform=data_transform, download=True)"
   ]
  },
  {
   "cell_type": "code",
   "execution_count": 4,
   "metadata": {
    "colab": {
     "base_uri": "https://localhost:8080/",
     "height": 153
    },
    "colab_type": "code",
    "id": "W9acPhfitqZ1",
    "outputId": "413c3db1-ed9e-4d37-85ab-a73e9ead03f1"
   },
   "outputs": [
    {
     "data": {
      "text/plain": [
       "Dataset STL10\n",
       "    Number of datapoints: 8000\n",
       "    Split: test\n",
       "    Root Location: ./data\n",
       "    Transforms (if any): Compose(\n",
       "                             ToTensor()\n",
       "                         )\n",
       "    Target Transforms (if any): None"
      ]
     },
     "execution_count": 4,
     "metadata": {},
     "output_type": "execute_result"
    }
   ],
   "source": [
    "test"
   ]
  },
  {
   "cell_type": "code",
   "execution_count": 5,
   "metadata": {
    "colab": {},
    "colab_type": "code",
    "id": "sdmz10AjtqZ4"
   },
   "outputs": [],
   "source": [
    "train_loader = torch.utils.data.DataLoader(test, batch_size=8000, shuffle=False, num_workers=0)"
   ]
  },
  {
   "cell_type": "code",
   "execution_count": 6,
   "metadata": {
    "colab": {},
    "colab_type": "code",
    "id": "VeW3C0ZEtqZ5"
   },
   "outputs": [],
   "source": [
    "data, labels= next(iter(train_loader))"
   ]
  },
  {
   "cell_type": "markdown",
   "metadata": {},
   "source": [
    "## Using 1500 labled data and 6500 unlabeled data in this example:"
   ]
  },
  {
   "cell_type": "code",
   "execution_count": 7,
   "metadata": {
    "colab": {},
    "colab_type": "code",
    "id": "vPYd4ulQtqZ7"
   },
   "outputs": [],
   "source": [
    "#keep 1500 as labeled data\n",
    "np.random.seed(5)\n",
    "labeled_ind = np.random.choice(8000,1500, replace = False)"
   ]
  },
  {
   "cell_type": "code",
   "execution_count": 8,
   "metadata": {
    "colab": {},
    "colab_type": "code",
    "id": "r7_D07TjtqZ9"
   },
   "outputs": [],
   "source": [
    "unlabeled_ind = np.setdiff1d(list(range(8000)), labeled_ind)"
   ]
  },
  {
   "cell_type": "code",
   "execution_count": 9,
   "metadata": {
    "colab": {
     "base_uri": "https://localhost:8080/",
     "height": 34
    },
    "colab_type": "code",
    "id": "11xCiYjQtqZ_",
    "outputId": "586fe7e4-aeae-42bd-c908-35b7d1aad4ce"
   },
   "outputs": [
    {
     "data": {
      "text/plain": [
       "(6500,)"
      ]
     },
     "execution_count": 9,
     "metadata": {},
     "output_type": "execute_result"
    }
   ],
   "source": [
    "unlabeled_ind.shape"
   ]
  },
  {
   "cell_type": "code",
   "execution_count": 10,
   "metadata": {
    "colab": {},
    "colab_type": "code",
    "id": "iQ4TEQOttqaC"
   },
   "outputs": [],
   "source": [
    "labels = labels.numpy()"
   ]
  },
  {
   "cell_type": "code",
   "execution_count": 11,
   "metadata": {
    "colab": {},
    "colab_type": "code",
    "id": "AUKB2kQjtqaE"
   },
   "outputs": [],
   "source": [
    "#unlabeled data coded as 10\n",
    "np.put(labels,list(unlabeled_ind),10)"
   ]
  },
  {
   "cell_type": "code",
   "execution_count": 12,
   "metadata": {
    "colab": {},
    "colab_type": "code",
    "id": "lDso6h9-tqaH"
   },
   "outputs": [],
   "source": [
    "#make 0.3 of the labeled data dev set, dev set is made sure to have balanced labels\n",
    "np.random.seed(5)\n",
    "dev_ind = labeled_ind[np.random.choice(1500,450, replace = False)]"
   ]
  },
  {
   "cell_type": "code",
   "execution_count": 13,
   "metadata": {
    "colab": {},
    "colab_type": "code",
    "id": "6EBDbgcctqaI"
   },
   "outputs": [],
   "source": [
    "train_ind = np.setdiff1d(list(range(8000)), dev_ind)"
   ]
  },
  {
   "cell_type": "code",
   "execution_count": 15,
   "metadata": {
    "colab": {
     "base_uri": "https://localhost:8080/",
     "height": 34
    },
    "colab_type": "code",
    "id": "A-Vp0l9ytqaK",
    "outputId": "1bf0c94f-a8c5-4a42-e736-d9c91384ef3b"
   },
   "outputs": [
    {
     "data": {
      "text/plain": [
       "(450, 7550)"
      ]
     },
     "execution_count": 15,
     "metadata": {},
     "output_type": "execute_result"
    }
   ],
   "source": [
    "#450 labeled data for dev set, 1050 labeled data + 6500 unlabeled data for training set\n",
    "len(dev_ind), len(train_ind)"
   ]
  },
  {
   "cell_type": "code",
   "execution_count": 16,
   "metadata": {
    "colab": {},
    "colab_type": "code",
    "id": "lGibOIxAtqaN"
   },
   "outputs": [],
   "source": [
    "#prepare dataloader for pytorch\n",
    "class TorchInputData(tud.Dataset):\n",
    "    \"\"\"\n",
    "    A simple inheretance of torch.DataSet to enable using our customized DogBreed dataset in torch\n",
    "    \"\"\"\n",
    "    def __init__(self, X, Y, transform=None):\n",
    "        \"\"\"\n",
    "        X: a list of numpy images \n",
    "        Y: a list of labels coded using 0-9 \n",
    "        \"\"\"        \n",
    "        self.X = X\n",
    "        self.Y = Y \n",
    "\n",
    "    def __len__(self):\n",
    "        return len(self.X)\n",
    "\n",
    "    def __getitem__(self, idx):\n",
    "        x = self.X[idx]\n",
    "        y = self.Y[idx]\n",
    "\n",
    "        return x, y"
   ]
  },
  {
   "cell_type": "code",
   "execution_count": 17,
   "metadata": {
    "colab": {},
    "colab_type": "code",
    "id": "AGNVrPRTtqaP"
   },
   "outputs": [],
   "source": [
    "images_train = [data[i] for i in train_ind]\n",
    "trainset = TorchInputData(images_train, labels[train_ind])\n",
    "train_loader = tud.DataLoader(trainset, batch_size=50, shuffle=True)"
   ]
  },
  {
   "cell_type": "code",
   "execution_count": 18,
   "metadata": {
    "colab": {},
    "colab_type": "code",
    "id": "lcjD5NzytqaS"
   },
   "outputs": [],
   "source": [
    "images_dev = [data[i] for i in dev_ind]\n",
    "devset = TorchInputData(images_dev, labels[dev_ind])\n",
    "dev_loader = tud.DataLoader(devset, batch_size=50, shuffle=True)"
   ]
  },
  {
   "cell_type": "markdown",
   "metadata": {},
   "source": [
    "# M2 Model:"
   ]
  },
  {
   "cell_type": "code",
   "execution_count": 1,
   "metadata": {
    "colab": {},
    "colab_type": "code",
    "id": "MRJzKo-qtqaV"
   },
   "outputs": [],
   "source": [
    "#import nn.module for M2 and CNN classifier\n",
    "from m2_stl10_cuda import M2,Classifier"
   ]
  },
  {
   "cell_type": "code",
   "execution_count": 2,
   "metadata": {
    "colab": {},
    "colab_type": "code",
    "id": "a9Mkg3BatqaX"
   },
   "outputs": [],
   "source": [
    "classifier = Classifier(image_reso = 96, filter_size = 5, dropout_rate = 0.2)"
   ]
  },
  {
   "cell_type": "code",
   "execution_count": 3,
   "metadata": {
    "colab": {},
    "colab_type": "code",
    "id": "KI8aHlvUtqaY"
   },
   "outputs": [],
   "source": [
    "m2 = M2(latent_features = 128, classifier = classifier, path = \"m2_stl10_0.1_50epoch_5.pth\")"
   ]
  },
  {
   "cell_type": "markdown",
   "metadata": {},
   "source": [
    "### Structure of the M2 model: a convolutional variational autoencoder and a CNN classifier"
   ]
  },
  {
   "cell_type": "code",
   "execution_count": 5,
   "metadata": {},
   "outputs": [
    {
     "data": {
      "text/plain": [
       "M2_base(\n",
       "  (encoder): Encoder(\n",
       "    (bottle): EncoderModule(\n",
       "      (conv): Conv2d(3, 32, kernel_size=(1, 1), stride=(1, 1))\n",
       "      (bn): BatchNorm2d(32, eps=1e-05, momentum=0.1, affine=True, track_running_stats=True)\n",
       "      (relu): ReLU(inplace=True)\n",
       "    )\n",
       "    (m1): EncoderModule(\n",
       "      (conv): Conv2d(32, 64, kernel_size=(3, 3), stride=(1, 1), padding=(1, 1))\n",
       "      (bn): BatchNorm2d(64, eps=1e-05, momentum=0.1, affine=True, track_running_stats=True)\n",
       "      (relu): ReLU(inplace=True)\n",
       "    )\n",
       "    (m2): EncoderModule(\n",
       "      (conv): Conv2d(64, 128, kernel_size=(3, 3), stride=(4, 4), padding=(1, 1))\n",
       "      (bn): BatchNorm2d(128, eps=1e-05, momentum=0.1, affine=True, track_running_stats=True)\n",
       "      (relu): ReLU(inplace=True)\n",
       "    )\n",
       "    (m3): EncoderModule(\n",
       "      (conv): Conv2d(128, 256, kernel_size=(3, 3), stride=(4, 4), padding=(1, 1))\n",
       "      (bn): BatchNorm2d(256, eps=1e-05, momentum=0.1, affine=True, track_running_stats=True)\n",
       "      (relu): ReLU(inplace=True)\n",
       "    )\n",
       "  )\n",
       "  (fc1): Linear(in_features=9226, out_features=128, bias=True)\n",
       "  (fc2): Linear(in_features=9226, out_features=128, bias=True)\n",
       "  (fc3): Linear(in_features=138, out_features=9216, bias=True)\n",
       "  (decoder): Decoder(\n",
       "    (m1): DecoderModule(\n",
       "      (convt): ConvTranspose2d(256, 128, kernel_size=(1, 1), stride=(1, 1))\n",
       "      (bn): BatchNorm2d(128, eps=1e-05, momentum=0.1, affine=True, track_running_stats=True)\n",
       "      (activation): ReLU(inplace=True)\n",
       "    )\n",
       "    (m2): DecoderModule(\n",
       "      (convt): ConvTranspose2d(128, 64, kernel_size=(4, 4), stride=(4, 4))\n",
       "      (bn): BatchNorm2d(64, eps=1e-05, momentum=0.1, affine=True, track_running_stats=True)\n",
       "      (activation): ReLU(inplace=True)\n",
       "    )\n",
       "    (m3): DecoderModule(\n",
       "      (convt): ConvTranspose2d(64, 32, kernel_size=(4, 4), stride=(4, 4))\n",
       "      (bn): BatchNorm2d(32, eps=1e-05, momentum=0.1, affine=True, track_running_stats=True)\n",
       "      (activation): ReLU(inplace=True)\n",
       "    )\n",
       "    (bottle): DecoderModule(\n",
       "      (convt): ConvTranspose2d(32, 3, kernel_size=(1, 1), stride=(1, 1))\n",
       "      (bn): BatchNorm2d(3, eps=1e-05, momentum=0.1, affine=True, track_running_stats=True)\n",
       "      (activation): Sigmoid()\n",
       "    )\n",
       "  )\n",
       "  (classifier): Classifier(\n",
       "    (conv1_drop): Dropout2d(p=0.2, inplace=False)\n",
       "    (conv1): Conv2d(3, 10, kernel_size=(5, 5), stride=(1, 1), padding=(2, 2))\n",
       "    (bn1): BatchNorm2d(10, eps=1e-05, momentum=0.1, affine=True, track_running_stats=True)\n",
       "    (pool1): MaxPool2d(kernel_size=2, stride=2, padding=0, dilation=1, ceil_mode=False)\n",
       "    (conv2_drop): Dropout2d(p=0.2, inplace=False)\n",
       "    (conv2): Conv2d(10, 20, kernel_size=(5, 5), stride=(1, 1), padding=(2, 2))\n",
       "    (bn2): BatchNorm2d(20, eps=1e-05, momentum=0.1, affine=True, track_running_stats=True)\n",
       "    (avgpool): AvgPool2d(kernel_size=4, stride=4, padding=0)\n",
       "    (fc1): Linear(in_features=2880, out_features=64, bias=True)\n",
       "    (fc2): Linear(in_features=64, out_features=10, bias=True)\n",
       "  )\n",
       ")"
      ]
     },
     "execution_count": 5,
     "metadata": {},
     "output_type": "execute_result"
    }
   ],
   "source": [
    "m2.model"
   ]
  },
  {
   "cell_type": "markdown",
   "metadata": {},
   "source": [
    "### Training the M2 model for 50 epochs:"
   ]
  },
  {
   "cell_type": "code",
   "execution_count": null,
   "metadata": {
    "colab": {},
    "colab_type": "code",
    "id": "Ek1KOmSwtqaa"
   },
   "outputs": [],
   "source": [
    "#set alpha, hyperparameter for weighing the classifier loss\n",
    "alpha = 0.1*len(train_loader.dataset)"
   ]
  },
  {
   "cell_type": "code",
   "execution_count": 22,
   "metadata": {
    "colab": {
     "base_uri": "https://localhost:8080/",
     "height": 4267
    },
    "colab_type": "code",
    "id": "i2kZhMjMtqab",
    "outputId": "93cd57ad-d81f-49cd-9a5e-f3ab1779b433"
   },
   "outputs": [
    {
     "name": "stdout",
     "output_type": "stream",
     "text": [
      "0 151 Loss: 32058.003906\n",
      "50 151 Loss: 31447.046147\n",
      "100 151 Loss: 30987.901783\n",
      "150 151 Loss: 30654.894829\n",
      "Epoch: 1, train loss: 30654.8948, training accuracy 0.1914, dev set accuracy 0.2178\n",
      "0 151 Loss: 29796.480469\n",
      "50 151 Loss: 29337.005936\n",
      "100 151 Loss: 29126.071492\n",
      "150 151 Loss: 28930.423518\n",
      "Epoch: 2, train loss: 28930.4235, training accuracy 0.2505, dev set accuracy 0.2667\n",
      "0 151 Loss: 27343.324219\n",
      "50 151 Loss: 27696.852903\n",
      "100 151 Loss: 27659.622099\n",
      "150 151 Loss: 27491.809797\n",
      "Epoch: 3, train loss: 27491.8098, training accuracy 0.2886, dev set accuracy 0.3222\n",
      "0 151 Loss: 26245.335938\n",
      "50 151 Loss: 26934.046684\n",
      "100 151 Loss: 26872.761719\n",
      "150 151 Loss: 26730.880510\n",
      "Epoch: 4, train loss: 26730.8805, training accuracy 0.3438, dev set accuracy 0.3289\n",
      "0 151 Loss: 26574.585938\n",
      "50 151 Loss: 26244.717984\n",
      "100 151 Loss: 26186.863513\n",
      "150 151 Loss: 26125.866398\n",
      "Epoch: 5, train loss: 26125.8664, training accuracy 0.3857, dev set accuracy 0.3244\n",
      "0 151 Loss: 26495.984375\n",
      "50 151 Loss: 25459.733035\n",
      "100 151 Loss: 25685.134959\n",
      "150 151 Loss: 25584.134934\n",
      "Epoch: 6, train loss: 25584.1349, training accuracy 0.4029, dev set accuracy 0.3800\n",
      "0 151 Loss: 25516.169922\n",
      "50 151 Loss: 25446.512178\n",
      "100 151 Loss: 25368.383605\n",
      "150 151 Loss: 25328.831954\n",
      "Epoch: 7, train loss: 25328.8320, training accuracy 0.4648, dev set accuracy 0.3733\n",
      "0 151 Loss: 25694.191406\n",
      "50 151 Loss: 25227.610639\n",
      "100 151 Loss: 25161.965811\n",
      "150 151 Loss: 25081.175406\n",
      "Epoch: 8, train loss: 25081.1754, training accuracy 0.4848, dev set accuracy 0.3889\n",
      "0 151 Loss: 24430.796875\n",
      "50 151 Loss: 24908.902267\n",
      "100 151 Loss: 24962.714650\n",
      "150 151 Loss: 24978.598691\n",
      "Epoch: 9, train loss: 24978.5987, training accuracy 0.4962, dev set accuracy 0.4333\n",
      "0 151 Loss: 24875.208984\n",
      "50 151 Loss: 24732.171760\n",
      "100 151 Loss: 24775.852433\n",
      "150 151 Loss: 24800.183995\n",
      "Epoch: 10, train loss: 24800.1840, training accuracy 0.5352, dev set accuracy 0.3978\n",
      "0 151 Loss: 24074.863281\n",
      "50 151 Loss: 24546.622741\n",
      "100 151 Loss: 24680.502649\n",
      "150 151 Loss: 24655.393975\n",
      "Epoch: 11, train loss: 24655.3940, training accuracy 0.5610, dev set accuracy 0.4244\n",
      "0 151 Loss: 23781.097656\n",
      "50 151 Loss: 24093.081888\n",
      "100 151 Loss: 24322.644652\n",
      "150 151 Loss: 24390.462273\n",
      "Epoch: 12, train loss: 24390.4623, training accuracy 0.6219, dev set accuracy 0.4156\n",
      "0 151 Loss: 26391.898438\n",
      "50 151 Loss: 24651.985562\n",
      "100 151 Loss: 24492.601369\n",
      "150 151 Loss: 24448.789295\n",
      "Epoch: 13, train loss: 24448.7893, training accuracy 0.6352, dev set accuracy 0.4444\n",
      "0 151 Loss: 24226.839844\n",
      "50 151 Loss: 24452.829312\n",
      "100 151 Loss: 24428.199741\n",
      "150 151 Loss: 24379.224364\n",
      "Epoch: 14, train loss: 24379.2244, training accuracy 0.6486, dev set accuracy 0.4044\n",
      "0 151 Loss: 24197.621094\n",
      "50 151 Loss: 24350.846890\n",
      "100 151 Loss: 24249.274443\n",
      "150 151 Loss: 24276.971039\n",
      "Epoch: 15, train loss: 24276.9710, training accuracy 0.6410, dev set accuracy 0.3689\n",
      "0 151 Loss: 24390.998047\n",
      "50 151 Loss: 24348.017272\n",
      "100 151 Loss: 24234.145131\n",
      "150 151 Loss: 24190.187539\n",
      "Epoch: 16, train loss: 24190.1875, training accuracy 0.6800, dev set accuracy 0.3867\n",
      "0 151 Loss: 26028.599609\n",
      "50 151 Loss: 24153.877911\n",
      "100 151 Loss: 24280.939685\n",
      "150 151 Loss: 24198.292632\n",
      "Epoch: 17, train loss: 24198.2926, training accuracy 0.6943, dev set accuracy 0.4000\n",
      "0 151 Loss: 22325.585938\n",
      "50 151 Loss: 24016.144876\n",
      "100 151 Loss: 23986.672765\n",
      "150 151 Loss: 24011.930916\n",
      "Epoch: 18, train loss: 24011.9309, training accuracy 0.7238, dev set accuracy 0.3400\n",
      "0 151 Loss: 22429.746094\n",
      "50 151 Loss: 23902.894455\n",
      "100 151 Loss: 23945.917737\n",
      "150 151 Loss: 24043.164567\n",
      "Epoch: 19, train loss: 24043.1646, training accuracy 0.7257, dev set accuracy 0.4178\n",
      "0 151 Loss: 24543.371094\n",
      "50 151 Loss: 24006.690870\n",
      "100 151 Loss: 23770.480333\n",
      "150 151 Loss: 23875.644997\n",
      "Epoch: 20, train loss: 23875.6450, training accuracy 0.7362, dev set accuracy 0.4244\n",
      "0 151 Loss: 23149.554688\n",
      "50 151 Loss: 24098.981771\n",
      "100 151 Loss: 23843.485651\n",
      "150 151 Loss: 23871.052295\n",
      "Epoch: 21, train loss: 23871.0523, training accuracy 0.7686, dev set accuracy 0.4333\n",
      "0 151 Loss: 24496.277344\n",
      "50 151 Loss: 23922.612132\n",
      "100 151 Loss: 23753.234259\n",
      "150 151 Loss: 23795.616502\n",
      "Epoch: 22, train loss: 23795.6165, training accuracy 0.7905, dev set accuracy 0.4200\n",
      "0 151 Loss: 24097.628906\n",
      "50 151 Loss: 23753.946500\n",
      "100 151 Loss: 23725.110458\n",
      "150 151 Loss: 23767.249379\n",
      "Epoch: 23, train loss: 23767.2494, training accuracy 0.7781, dev set accuracy 0.4289\n",
      "0 151 Loss: 25041.019531\n",
      "50 151 Loss: 23580.200176\n",
      "100 151 Loss: 23642.043007\n",
      "150 151 Loss: 23712.492472\n",
      "Epoch: 24, train loss: 23712.4925, training accuracy 0.8095, dev set accuracy 0.4111\n",
      "0 151 Loss: 24133.191406\n",
      "50 151 Loss: 23573.904259\n",
      "100 151 Loss: 23673.756652\n",
      "150 151 Loss: 23696.869787\n",
      "Epoch: 25, train loss: 23696.8698, training accuracy 0.8295, dev set accuracy 0.4244\n",
      "0 151 Loss: 24101.974609\n",
      "50 151 Loss: 23383.644723\n",
      "100 151 Loss: 23520.743928\n",
      "150 151 Loss: 23566.885011\n",
      "Epoch: 26, train loss: 23566.8850, training accuracy 0.8476, dev set accuracy 0.4089\n",
      "0 151 Loss: 22115.906250\n",
      "50 151 Loss: 23489.254672\n",
      "100 151 Loss: 23601.539739\n",
      "150 151 Loss: 23569.787407\n",
      "Epoch: 27, train loss: 23569.7874, training accuracy 0.8457, dev set accuracy 0.4333\n",
      "0 151 Loss: 23110.697266\n",
      "50 151 Loss: 23525.935470\n",
      "100 151 Loss: 23494.070622\n",
      "150 151 Loss: 23494.520889\n",
      "Epoch: 28, train loss: 23494.5209, training accuracy 0.8705, dev set accuracy 0.4000\n",
      "0 151 Loss: 24044.126953\n",
      "50 151 Loss: 23562.554649\n",
      "100 151 Loss: 23517.856184\n",
      "150 151 Loss: 23463.358689\n",
      "Epoch: 29, train loss: 23463.3587, training accuracy 0.8648, dev set accuracy 0.4200\n",
      "0 151 Loss: 24062.394531\n",
      "50 151 Loss: 23405.310930\n",
      "100 151 Loss: 23378.566600\n",
      "150 151 Loss: 23391.562979\n",
      "Epoch: 30, train loss: 23391.5630, training accuracy 0.8914, dev set accuracy 0.4244\n",
      "0 151 Loss: 23692.257812\n",
      "50 151 Loss: 23423.993911\n",
      "100 151 Loss: 23466.801555\n",
      "150 151 Loss: 23372.187358\n",
      "Epoch: 31, train loss: 23372.1874, training accuracy 0.8848, dev set accuracy 0.4111\n",
      "0 151 Loss: 23245.875000\n",
      "50 151 Loss: 23403.322495\n",
      "100 151 Loss: 23435.626450\n",
      "150 151 Loss: 23382.006648\n",
      "Epoch: 32, train loss: 23382.0066, training accuracy 0.9133, dev set accuracy 0.4356\n",
      "0 151 Loss: 23249.365234\n",
      "50 151 Loss: 23390.944278\n",
      "100 151 Loss: 23417.298461\n",
      "150 151 Loss: 23361.935637\n",
      "Epoch: 33, train loss: 23361.9356, training accuracy 0.9057, dev set accuracy 0.4222\n",
      "0 151 Loss: 21920.445312\n",
      "50 151 Loss: 23277.078546\n",
      "100 151 Loss: 23270.534151\n",
      "150 151 Loss: 23261.950124\n",
      "Epoch: 34, train loss: 23261.9501, training accuracy 0.9171, dev set accuracy 0.4156\n",
      "0 151 Loss: 23563.896484\n",
      "50 151 Loss: 23455.627068\n",
      "100 151 Loss: 23368.730101\n",
      "150 151 Loss: 23296.002949\n",
      "Epoch: 35, train loss: 23296.0029, training accuracy 0.9162, dev set accuracy 0.3600\n",
      "0 151 Loss: 24301.765625\n",
      "50 151 Loss: 23282.770335\n",
      "100 151 Loss: 23354.926071\n",
      "150 151 Loss: 23327.685288\n",
      "Epoch: 36, train loss: 23327.6853, training accuracy 0.9171, dev set accuracy 0.4111\n",
      "0 151 Loss: 23678.601562\n",
      "50 151 Loss: 23335.293773\n",
      "100 151 Loss: 23215.771446\n",
      "150 151 Loss: 23268.576961\n",
      "Epoch: 37, train loss: 23268.5770, training accuracy 0.9190, dev set accuracy 0.4200\n",
      "0 151 Loss: 22251.496094\n",
      "50 151 Loss: 23231.346354\n",
      "100 151 Loss: 23211.856861\n",
      "150 151 Loss: 23237.114445\n",
      "Epoch: 38, train loss: 23237.1144, training accuracy 0.9133, dev set accuracy 0.4156\n",
      "0 151 Loss: 24229.458984\n",
      "50 151 Loss: 23201.823912\n",
      "100 151 Loss: 23213.679707\n",
      "150 151 Loss: 23245.203435\n",
      "Epoch: 39, train loss: 23245.2034, training accuracy 0.9162, dev set accuracy 0.4244\n",
      "0 151 Loss: 24348.160156\n",
      "50 151 Loss: 23424.928845\n",
      "100 151 Loss: 23309.546933\n",
      "150 151 Loss: 23264.887896\n",
      "Epoch: 40, train loss: 23264.8879, training accuracy 0.9238, dev set accuracy 0.3978\n",
      "0 151 Loss: 23419.892578\n",
      "50 151 Loss: 23290.411382\n",
      "100 151 Loss: 23242.442683\n",
      "150 151 Loss: 23213.231633\n",
      "Epoch: 41, train loss: 23213.2316, training accuracy 0.9314, dev set accuracy 0.4089\n",
      "0 151 Loss: 24062.654297\n",
      "50 151 Loss: 23322.637255\n",
      "100 151 Loss: 23110.301864\n",
      "150 151 Loss: 23064.737589\n",
      "Epoch: 42, train loss: 23064.7376, training accuracy 0.9143, dev set accuracy 0.4156\n",
      "0 151 Loss: 22507.605469\n",
      "50 151 Loss: 23035.449410\n",
      "100 151 Loss: 23044.438428\n",
      "150 151 Loss: 23195.909600\n",
      "Epoch: 43, train loss: 23195.9096, training accuracy 0.9362, dev set accuracy 0.4022\n",
      "0 151 Loss: 23084.449219\n",
      "50 151 Loss: 23140.710593\n",
      "100 151 Loss: 23167.136641\n",
      "150 151 Loss: 23125.581294\n",
      "Epoch: 44, train loss: 23125.5813, training accuracy 0.9295, dev set accuracy 0.4133\n",
      "0 151 Loss: 23228.373047\n",
      "50 151 Loss: 23273.442249\n",
      "100 151 Loss: 23196.122389\n",
      "150 151 Loss: 23179.324646\n",
      "Epoch: 45, train loss: 23179.3246, training accuracy 0.9333, dev set accuracy 0.4156\n",
      "0 151 Loss: 22587.789062\n",
      "50 151 Loss: 22982.187347\n",
      "100 151 Loss: 23113.026802\n",
      "150 151 Loss: 23108.435857\n",
      "Epoch: 46, train loss: 23108.4359, training accuracy 0.9362, dev set accuracy 0.4067\n",
      "0 151 Loss: 23725.240234\n",
      "50 151 Loss: 22943.705203\n",
      "100 151 Loss: 23024.781487\n",
      "150 151 Loss: 23061.083548\n",
      "Epoch: 47, train loss: 23061.0835, training accuracy 0.9352, dev set accuracy 0.4244\n",
      "0 151 Loss: 23452.695312\n",
      "50 151 Loss: 22798.400161\n",
      "100 151 Loss: 22939.998182\n",
      "150 151 Loss: 22941.465413\n",
      "Epoch: 48, train loss: 22941.4654, training accuracy 0.9476, dev set accuracy 0.3911\n",
      "0 151 Loss: 23071.056641\n",
      "50 151 Loss: 23280.183479\n",
      "100 151 Loss: 23160.870804\n",
      "150 151 Loss: 23093.452116\n",
      "Epoch: 49, train loss: 23093.4521, training accuracy 0.9314, dev set accuracy 0.3978\n",
      "0 151 Loss: 23613.125000\n",
      "50 151 Loss: 23217.069738\n",
      "100 151 Loss: 23073.521852\n",
      "150 151 Loss: 23039.442053\n",
      "Epoch: 50, train loss: 23039.4421, training accuracy 0.9619, dev set accuracy 0.4133\n"
     ]
    }
   ],
   "source": [
    "#fit M2 model\n",
    "#labeled_data_len is the number of labeled data in train+dev set: 450+1050\n",
    "m2.fit(train_loader,dev_loader,50,alpha,labeled_data_len = 1500)"
   ]
  },
  {
   "cell_type": "code",
   "execution_count": 23,
   "metadata": {
    "colab": {
     "base_uri": "https://localhost:8080/",
     "height": 34
    },
    "colab_type": "code",
    "id": "83u-X-fGtqae",
    "outputId": "e0b1eb76-6cfd-42e5-e1e7-60bcf4b1fadd"
   },
   "outputs": [
    {
     "data": {
      "text/plain": [
       "0.4444444444444444"
      ]
     },
     "execution_count": 23,
     "metadata": {
      "tags": []
     },
     "output_type": "execute_result"
    }
   ],
   "source": [
    "#best dev set accuracy \n",
    "m2.model.best_dev_accuracy"
   ]
  },
  {
   "cell_type": "markdown",
   "metadata": {
    "colab_type": "text",
    "id": "ftuQtN-8tqag"
   },
   "source": [
    "# Baseline Model:\n",
    "### Only using the labeled data for supervised learning"
   ]
  },
  {
   "cell_type": "code",
   "execution_count": null,
   "metadata": {
    "colab": {},
    "colab_type": "code",
    "id": "kjbvy8iGtqah"
   },
   "outputs": [],
   "source": [
    "#use the same dev set as M2\n",
    "dev_ind_b = dev_ind\n",
    "#training data is the same 1050 labeled data as M2\n",
    "train_ind_b = (np.setdiff1d(labeled_ind, dev_ind))"
   ]
  },
  {
   "cell_type": "code",
   "execution_count": 25,
   "metadata": {
    "colab": {
     "base_uri": "https://localhost:8080/",
     "height": 34
    },
    "colab_type": "code",
    "id": "4Yd9GQq9tqai",
    "outputId": "e4e72fde-74ea-4693-c216-afcf981d98ad"
   },
   "outputs": [
    {
     "data": {
      "text/plain": [
       "(450, 1050)"
      ]
     },
     "execution_count": 25,
     "metadata": {
      "tags": []
     },
     "output_type": "execute_result"
    }
   ],
   "source": [
    "len(dev_ind_b),len(train_ind_b)"
   ]
  },
  {
   "cell_type": "code",
   "execution_count": null,
   "metadata": {
    "colab": {},
    "colab_type": "code",
    "id": "oAn2wW7ntqal"
   },
   "outputs": [],
   "source": [
    "#prepare dataloader for pytroch\n",
    "images_train_b = [data[i] for i in train_ind_b]\n",
    "trainset_b = TorchInputData(images_train_b, labels[train_ind_b])\n",
    "train_loader_b = tud.DataLoader(trainset_b, batch_size=50, shuffle=True)"
   ]
  },
  {
   "cell_type": "code",
   "execution_count": null,
   "metadata": {
    "colab": {},
    "colab_type": "code",
    "id": "p0RqfXV7tqam"
   },
   "outputs": [],
   "source": [
    "images_dev_b = [data[i] for i in dev_ind_b]\n",
    "devset_b = TorchInputData(images_dev_b, labels[dev_ind_b])\n",
    "dev_loader_b = tud.DataLoader(devset_b, batch_size=50, shuffle=True)"
   ]
  },
  {
   "cell_type": "code",
   "execution_count": 6,
   "metadata": {
    "colab": {},
    "colab_type": "code",
    "id": "S2jusPJOtqao"
   },
   "outputs": [],
   "source": [
    "from baseline_cnn_stl10_cuda import BaselineConvNet"
   ]
  },
  {
   "cell_type": "code",
   "execution_count": 7,
   "metadata": {
    "colab": {},
    "colab_type": "code",
    "id": "yGm1JqNWtqaq"
   },
   "outputs": [],
   "source": [
    "baseline = BaselineConvNet(96, path = \"baseline_stl10_100epoch_5.pth\")"
   ]
  },
  {
   "cell_type": "markdown",
   "metadata": {},
   "source": [
    "### Structure of the baseline model: same as the classifier in the M2 model"
   ]
  },
  {
   "cell_type": "code",
   "execution_count": 8,
   "metadata": {},
   "outputs": [
    {
     "data": {
      "text/plain": [
       "TwoLayerConvNet(\n",
       "  (conv1_drop): Dropout2d(p=0.2, inplace=False)\n",
       "  (conv1): Conv2d(3, 10, kernel_size=(5, 5), stride=(1, 1), padding=(2, 2))\n",
       "  (bn1): BatchNorm2d(10, eps=1e-05, momentum=0.1, affine=True, track_running_stats=True)\n",
       "  (pool1): MaxPool2d(kernel_size=2, stride=2, padding=0, dilation=1, ceil_mode=False)\n",
       "  (conv2_drop): Dropout2d(p=0.2, inplace=False)\n",
       "  (conv2): Conv2d(10, 20, kernel_size=(5, 5), stride=(1, 1), padding=(2, 2))\n",
       "  (bn2): BatchNorm2d(20, eps=1e-05, momentum=0.1, affine=True, track_running_stats=True)\n",
       "  (avgpool): AvgPool2d(kernel_size=4, stride=4, padding=0)\n",
       "  (fc1): Linear(in_features=2880, out_features=64, bias=True)\n",
       "  (fc2): Linear(in_features=64, out_features=10, bias=True)\n",
       ")"
      ]
     },
     "execution_count": 8,
     "metadata": {},
     "output_type": "execute_result"
    }
   ],
   "source": [
    "baseline.model"
   ]
  },
  {
   "cell_type": "code",
   "execution_count": null,
   "metadata": {},
   "outputs": [],
   "source": [
    "baseline.fit(train_loader_b,dev_loader_b)\n",
    "baseline.train(100)"
   ]
  },
  {
   "cell_type": "code",
   "execution_count": 31,
   "metadata": {
    "colab": {
     "base_uri": "https://localhost:8080/",
     "height": 34
    },
    "colab_type": "code",
    "id": "BODrszuktqat",
    "outputId": "c211619a-9e16-46ff-fb6b-0a6d61f882ea"
   },
   "outputs": [
    {
     "data": {
      "text/plain": [
       "0.3977777777777778"
      ]
     },
     "execution_count": 31,
     "metadata": {
      "tags": []
     },
     "output_type": "execute_result"
    }
   ],
   "source": [
    "#best dev set accuracy \n",
    "baseline.model.best_dev_accuracy"
   ]
  },
  {
   "cell_type": "markdown",
   "metadata": {
    "colab_type": "text",
    "id": "9dQtIEBhtqau"
   },
   "source": [
    "# Test Set Performance: \n",
    "### The M2 model successfully increase the accuracy of the classifier"
   ]
  },
  {
   "cell_type": "code",
   "execution_count": 9,
   "metadata": {
    "colab": {},
    "colab_type": "code",
    "id": "Zl0AOKQytqav"
   },
   "outputs": [],
   "source": [
    "#The testset dataloader\n",
    "testset_loader = torch.utils.data.DataLoader(train, batch_size=1000, shuffle=True, num_workers=0)"
   ]
  },
  {
   "cell_type": "code",
   "execution_count": 10,
   "metadata": {
    "colab": {
     "base_uri": "https://localhost:8080/",
     "height": 68
    },
    "colab_type": "code",
    "id": "LNHiD7kDtqaw",
    "outputId": "db45e881-88f8-4b75-9790-b9e469bbc87c"
   },
   "outputs": [
    {
     "name": "stdout",
     "output_type": "stream",
     "text": [
      "\n",
      "Test set: Accuracy: 1796/5000 (36%)\n",
      "\n"
     ]
    }
   ],
   "source": [
    "conf_b, acc_b = baseline.test(testset_loader,path = \"baseline_stl10_100epoch_5.pth\",return_confusion_matrix = True)"
   ]
  },
  {
   "cell_type": "code",
   "execution_count": 16,
   "metadata": {
    "colab": {
     "base_uri": "https://localhost:8080/",
     "height": 68
    },
    "colab_type": "code",
    "id": "SJPvWwAUtqax",
    "outputId": "e0f84bdf-d17d-4aae-cf4b-0c521e17ebff"
   },
   "outputs": [
    {
     "name": "stdout",
     "output_type": "stream",
     "text": [
      "\n",
      "Test set: Accuracy: 2001/5000 (40%)\n",
      "\n"
     ]
    }
   ],
   "source": [
    "conf, acc = m2.test(testset_loader,path = \"m2_stl10_0.1_50epoch_5.pth\",return_confusion_matrix = True)"
   ]
  }
 ],
 "metadata": {
  "accelerator": "GPU",
  "colab": {
   "name": "stl10_m2.ipynb",
   "provenance": [],
   "toc_visible": true,
   "version": "0.3.2"
  },
  "kernelspec": {
   "display_name": "Python 3",
   "language": "python",
   "name": "python3"
  },
  "language_info": {
   "codemirror_mode": {
    "name": "ipython",
    "version": 3
   },
   "file_extension": ".py",
   "mimetype": "text/x-python",
   "name": "python",
   "nbconvert_exporter": "python",
   "pygments_lexer": "ipython3",
   "version": "3.6.7"
  }
 },
 "nbformat": 4,
 "nbformat_minor": 4
}
